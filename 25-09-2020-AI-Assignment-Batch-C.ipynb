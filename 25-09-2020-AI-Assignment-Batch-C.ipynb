{
 "cells": [
  {
   "cell_type": "code",
   "execution_count": 1,
   "metadata": {},
   "outputs": [],
   "source": [
    "import re"
   ]
  },
  {
   "cell_type": "code",
   "execution_count": 13,
   "metadata": {},
   "outputs": [
    {
     "name": "stdout",
     "output_type": "stream",
     "text": [
      "Valid Email\n",
      "Valid Email\n",
      "Invalid Email\n"
     ]
    }
   ],
   "source": [
    "import re \n",
    "regex = '^[a-z0-9]+[\\._]?[a-z0-9]+[@]\\w+[.]\\w{2,3}$'\n",
    "def check(email):  \n",
    "    if(re.search(regex,email)):  \n",
    "        print(\"Valid Email\")  \n",
    "          \n",
    "    else:  \n",
    "        print(\"Invalid Email\")  \n",
    "if __name__ == '__main__' :   \n",
    "    email = \"divyaj326@gmail.com\" \n",
    "    check(email) \n",
    "    email = \"mycode@yahoo.org\"\n",
    "    check(email) \n",
    "    email = \"divya.com\"\n",
    "    check(email) "
   ]
  },
  {
   "cell_type": "code",
   "execution_count": 12,
   "metadata": {},
   "outputs": [
    {
     "name": "stdout",
     "output_type": "stream",
     "text": [
      "Valid phone number\n",
      "Invalid phone number\n",
      "Invalid phone number\n"
     ]
    }
   ],
   "source": [
    " import re\n",
    "regex= \"\\w{3}-\\w{3}-\\w{4}\"\n",
    "def check(phonenumber):\n",
    "    if re.search(regex, phonenumber):\n",
    "        print(\"Valid phone number\")\n",
    "    else:\n",
    "        print(\"Invalid phone number\")\n",
    "if __name__ == '__main__' :   \n",
    "    phonenumber = \"516-111-2222\" \n",
    "    check(phonenumber) \n",
    "    phonenumber = \"(516)111-2222\"\n",
    "    check(phonenumber) \n",
    "    phonenumber = \"5161112222\"\n",
    "    check(phonenumber) "
   ]
  },
  {
   "cell_type": "code",
   "execution_count": 17,
   "metadata": {},
   "outputs": [
    {
     "name": "stdout",
     "output_type": "stream",
     "text": [
      "Valid pincode\n",
      "Valid pincode\n",
      "Invalid pincode\n",
      "Invalid pincode\n"
     ]
    }
   ],
   "source": [
    "import re\n",
    "regex= \"^[1-9]{1}[0-9]{2}\\\\s{0,1}[0-9]{3}$\"\n",
    "def check(pincode):\n",
    "    if re.search(regex, pincode):\n",
    "        print(\"Valid pincode\")\n",
    "    else:\n",
    "        print(\"Invalid pincode\")\n",
    "if __name__ == '__main__' :   \n",
    "    pincode = \"132103\" \n",
    "    check(pincode) \n",
    "    pincode = \"201 305\"\n",
    "    check(pincode) \n",
    "    pincode = \"014205\"\n",
    "    check(pincode)\n",
    "    pincode = \"1473598\"\n",
    "    check(pincode)"
   ]
  },
  {
   "cell_type": "code",
   "execution_count": 25,
   "metadata": {},
   "outputs": [
    {
     "name": "stdout",
     "output_type": "stream",
     "text": [
      "Valid pincode\n",
      "Valid pincode\n",
      "Invalid pincode\n",
      "Valid pincode\n"
     ]
    }
   ],
   "source": [
    "import re\n",
    "regex= \"^[1-9]{1}[0-9]{2}\\\\s{0,1}[0-9]{3}$\"\n",
    "def check(pincode):\n",
    "    if re.search(regex, pincode):\n",
    "        print(\"Valid pincode\")\n",
    "    else:\n",
    "        print(\"Invalid pincode\")\n",
    "if __name__ == '__main__' :   \n",
    "    pincode = \"439048\" \n",
    "    check(pincode) \n",
    "    pincode = \"201 305\"\n",
    "    check(pincode) \n",
    "    pincode = \"011420\"\n",
    "    check(pincode)\n",
    "    pincode = \"147359\"\n",
    "    check(pincode)"
   ]
  },
  {
   "cell_type": "code",
   "execution_count": null,
   "metadata": {},
   "outputs": [],
   "source": []
  }
 ],
 "metadata": {
  "kernelspec": {
   "display_name": "Python 3",
   "language": "python",
   "name": "python3"
  },
  "language_info": {
   "codemirror_mode": {
    "name": "ipython",
    "version": 3
   },
   "file_extension": ".py",
   "mimetype": "text/x-python",
   "name": "python",
   "nbconvert_exporter": "python",
   "pygments_lexer": "ipython3",
   "version": "3.8.3"
  }
 },
 "nbformat": 4,
 "nbformat_minor": 4
}
