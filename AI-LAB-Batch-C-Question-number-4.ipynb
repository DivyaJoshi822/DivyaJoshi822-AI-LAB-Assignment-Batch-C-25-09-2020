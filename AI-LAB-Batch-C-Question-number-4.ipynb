{
 "cells": [
  {
   "cell_type": "code",
   "execution_count": 22,
   "metadata": {},
   "outputs": [
    {
     "name": "stdout",
     "output_type": "stream",
     "text": [
      "Password is valid.\n",
      "Password invalid !!\n"
     ]
    }
   ],
   "source": [
    "import re \n",
    "regex = \"^(?=.*[A-Z])(?=.*\\d)(?=.*[@$!%*#?&])[A-Z\\d@$!#%*?&]{8}$\" \n",
    "def check(password):  \n",
    "    if(re.search(regex,password)):  \n",
    "        print(\"Password is valid.\") \n",
    "    else: \n",
    "        print(\"Password invalid !!\") \n",
    "    \n",
    "if __name__ == '__main__': \n",
    "    password = 'DIV@1234'\n",
    "    check(password)\n",
    "    password = 'Div@1234'\n",
    "    check(password)"
   ]
  },
  {
   "cell_type": "code",
   "execution_count": null,
   "metadata": {},
   "outputs": [],
   "source": []
  },
  {
   "cell_type": "code",
   "execution_count": null,
   "metadata": {},
   "outputs": [],
   "source": []
  }
 ],
 "metadata": {
  "kernelspec": {
   "display_name": "Python 3",
   "language": "python",
   "name": "python3"
  },
  "language_info": {
   "codemirror_mode": {
    "name": "ipython",
    "version": 3
   },
   "file_extension": ".py",
   "mimetype": "text/x-python",
   "name": "python",
   "nbconvert_exporter": "python",
   "pygments_lexer": "ipython3",
   "version": "3.8.3"
  }
 },
 "nbformat": 4,
 "nbformat_minor": 4
}
